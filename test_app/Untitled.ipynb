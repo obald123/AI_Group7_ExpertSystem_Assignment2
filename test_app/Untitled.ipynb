{
 "cells": [
  {
   "cell_type": "code",
   "execution_count": null,
   "id": "accab96c-584d-4a33-b526-042d2d65b526",
   "metadata": {},
   "outputs": [],
   "source": [
    "import pandas as pd\n",
    "import numpy as np\n",
    "import matplotlib.pyplot as plt\n",
    "from statsmodels.tsa.statespace.sarimax import SARIMAX\n",
    "\n",
    "# Load historical drought data\n",
    "data = pd.read_csv('drought_data.csv', parse_dates=['Date'], index_col='Date')\n",
    "\n",
    "# Fit the SARIMA model\n",
    "model = SARIMAX(data['Drought_Level'], order=(1, 1, 1), seasonal_order=(1, 1, 1, 12))\n",
    "results = model.fit()\n",
    "\n",
    "# Forecast for the next 5 years (60 months)\n",
    "forecast = results.get_forecast(steps=60)\n",
    "forecast_index = pd.date_range(start=data.index[-1] + pd.DateOffset(months=1), periods=60, freq='M')\n",
    "forecast_values = forecast.predicted_mean\n",
    "\n",
    "# Create a DataFrame for the forecast\n",
    "forecast_df = pd.DataFrame(forecast_values, index=forecast_index, columns=['Predicted_Drought_Level'])\n",
    "\n",
    "# Plotting\n",
    "plt.figure(figsize=(14, 7))\n",
    "plt.plot(data.index, data['Drought_Level'], label='Historical Drought Level', color='blue')\n",
    "plt.plot(forecast_df.index, forecast_df['Predicted_Drought_Level'], label='Predicted Drought Level', color='orange')\n",
    "plt.title('Drought Level Prediction for the Next 5 Years')\n",
    "plt.xlabel('Date')\n",
    "plt.ylabel('Drought Level')\n",
    "plt.axvline(x=data.index[-1], color='gray', linestyle='--', label='Forecast Start')\n",
    "plt.legend()\n",
    "plt.show()"
   ]
  },
  {
   "cell_type": "code",
   "execution_count": null,
   "id": "1d74beef-707d-48de-a524-0762215490c2",
   "metadata": {},
   "outputs": [],
   "source": []
  }
 ],
 "metadata": {
  "kernelspec": {
   "display_name": "Python 3 (ipykernel)",
   "language": "python",
   "name": "python3"
  },
  "language_info": {
   "codemirror_mode": {
    "name": "ipython",
    "version": 3
   },
   "file_extension": ".py",
   "mimetype": "text/x-python",
   "name": "python",
   "nbconvert_exporter": "python",
   "pygments_lexer": "ipython3",
   "version": "3.13.1"
  }
 },
 "nbformat": 4,
 "nbformat_minor": 5
}
